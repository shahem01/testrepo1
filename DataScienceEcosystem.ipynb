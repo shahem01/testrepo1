{
 "cells": [
  {
   "cell_type": "markdown",
   "id": "4efb9b68-1aa5-44cd-a0a1-627b56a8b786",
   "metadata": {},
   "source": [
    "# Data Science Tools and Ecosystem\n"
   ]
  },
  {
   "cell_type": "markdown",
   "id": "71b2b375-1e19-48ee-8163-7d723bdabfbf",
   "metadata": {},
   "source": [
    "In this notebook, Data Science Tools and Ecosystem are summarized."
   ]
  },
  {
   "cell_type": "markdown",
   "id": "98fa1544-7e96-4e32-b33c-8cfff76682cd",
   "metadata": {},
   "source": [
    "**Objectives:**\n",
    "\n",
    "- List of popular languages for Data Science\n",
    "- List of common used libararies for Data Science\n",
    "- Evaluating arithmetic expressions in Python."
   ]
  },
  {
   "cell_type": "markdown",
   "id": "de249d7b-e5c8-41f1-9d9d-ba070ef63433",
   "metadata": {},
   "source": [
    "Some of the popular languages that Data Scientists use are:\n",
    "\n",
    "    1-Python\n",
    "    2-R\n",
    "    3-SQL\n",
    "    4-JAVA\n",
    "    "
   ]
  },
  {
   "cell_type": "markdown",
   "id": "85bd3545-35ae-4386-ae06-6981818c1dd4",
   "metadata": {},
   "source": [
    "Some of the commonly used libraries used by Data Scientists include:\n",
    "\n",
    "    1-Pandas\n",
    "    2-NumPy\n",
    "    3-Scikit-learn\n",
    "    4-Matplotlib"
   ]
  },
  {
   "cell_type": "markdown",
   "id": "c0ef008c-14e2-4c0c-8a24-39d2282ade8d",
   "metadata": {},
   "source": [
    "| Data Science Tools| \n",
    "| ------ | \n",
    "| RStudio | \n",
    "| Apache Spark| \n",
    "| Apache Hadoop| \n"
   ]
  },
  {
   "cell_type": "markdown",
   "id": "d3fcd4b4-561d-4e9e-a2fb-ec2cdafbb223",
   "metadata": {},
   "source": [
    "### Below are a few examples of evaluating arithmetic expressions in Python"
   ]
  },
  {
   "cell_type": "code",
   "execution_count": 2,
   "id": "5526e1de-2759-434f-967b-2b3e08669ce0",
   "metadata": {
    "tags": []
   },
   "outputs": [
    {
     "data": {
      "text/plain": [
       "17.0"
      ]
     },
     "execution_count": 2,
     "metadata": {},
     "output_type": "execute_result"
    }
   ],
   "source": [
    "# This a simple arithmetic expression to mutiply then add integers\n",
    "(3*4)+5."
   ]
  },
  {
   "cell_type": "code",
   "execution_count": 7,
   "id": "3603b135-8190-480b-a003-830a829a7fed",
   "metadata": {
    "tags": []
   },
   "outputs": [
    {
     "name": "stdout",
     "output_type": "stream",
     "text": [
      "3.3333333333333335 hours\n"
     ]
    }
   ],
   "source": [
    "# This will convert 200 minutes to hours by diving by 60\n",
    "print(200/60,\"hours\")\n"
   ]
  },
  {
   "cell_type": "markdown",
   "id": "986ac67d-d229-4b03-9058-d39041f87b26",
   "metadata": {},
   "source": [
    "## Author\n",
    "Shahem Al-Naber"
   ]
  },
  {
   "cell_type": "code",
   "execution_count": null,
   "id": "23f8a02b-199d-4680-9aab-fe899d53fba4",
   "metadata": {},
   "outputs": [],
   "source": []
  }
 ],
 "metadata": {
  "kernelspec": {
   "display_name": "Python",
   "language": "python",
   "name": "conda-env-python-py"
  },
  "language_info": {
   "codemirror_mode": {
    "name": "ipython",
    "version": 3
   },
   "file_extension": ".py",
   "mimetype": "text/x-python",
   "name": "python",
   "nbconvert_exporter": "python",
   "pygments_lexer": "ipython3",
   "version": "3.7.12"
  }
 },
 "nbformat": 4,
 "nbformat_minor": 5
}
